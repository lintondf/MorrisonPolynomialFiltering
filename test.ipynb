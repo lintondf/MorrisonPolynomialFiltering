{
 "cells": [
  {
   "cell_type": "markdown",
   "metadata": {},
   "source": [
    "The numerical computation of the full Expanding Memory Polynomial Filter Variance Reduction Matrices is\n",
    "quite involved.  Instead this package computes the exact values for the diagonal elements only and then\n",
    "fills the remainder of the matrix using correlation matrices derived from the large-sample approximating\n",
    "equations given in Problem 13.2 of the Supplementary Materials for Morrison 2012, Tracking Filter Engineering.\n",
    "\n",
    "TODO explain\n",
    "\n",
    "$$\n",
    "\\begin{aligned}\n",
    "\\dot{x} & = \\sigma(y-x) \\\\\n",
    "\\dot{y} & = \\rho x - y - xz \\\\\n",
    "\\dot{z} & = -\\beta z + xy\n",
    "\\end{aligned}\n",
    "$$\n"
   ]
  }
 ],
 "metadata": {
  "kernelspec": {
   "display_name": "Python 3",
   "language": "python",
   "name": "python3"
  },
  "language_info": {
   "codemirror_mode": {
    "name": "ipython",
    "version": 3
   },
   "file_extension": ".py",
   "mimetype": "text/x-python",
   "name": "python",
   "nbconvert_exporter": "python",
   "pygments_lexer": "ipython3",
   "version": "3.6.7"
  }
 },
 "nbformat": 4,
 "nbformat_minor": 2
}
